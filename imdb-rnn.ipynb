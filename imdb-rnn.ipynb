{
 "cells": [
  {
   "cell_type": "code",
   "execution_count": 1,
   "id": "initial_id",
   "metadata": {
    "collapsed": true,
    "ExecuteTime": {
     "end_time": "2024-04-12T16:52:41.805493700Z",
     "start_time": "2024-04-12T16:51:44.198297100Z"
    }
   },
   "outputs": [
    {
     "name": "stdout",
     "output_type": "stream",
     "text": [
      "Epoch 1/3\n"
     ]
    },
    {
     "name": "stderr",
     "output_type": "stream",
     "text": [
      "D:\\Work\\NeuralX\\code\\practical_dl\\.venv\\Lib\\site-packages\\keras\\src\\layers\\core\\embedding.py:86: UserWarning: Argument `input_length` is deprecated. Just remove it.\n",
      "  warnings.warn(\n"
     ]
    },
    {
     "name": "stdout",
     "output_type": "stream",
     "text": [
      "\u001B[1m391/391\u001B[0m \u001B[32m━━━━━━━━━━━━━━━━━━━━\u001B[0m\u001B[37m\u001B[0m \u001B[1m14s\u001B[0m 32ms/step - accuracy: 0.5902 - loss: 0.6614\n",
      "Epoch 2/3\n",
      "\u001B[1m391/391\u001B[0m \u001B[32m━━━━━━━━━━━━━━━━━━━━\u001B[0m\u001B[37m\u001B[0m \u001B[1m15s\u001B[0m 39ms/step - accuracy: 0.8517 - loss: 0.3618\n",
      "Epoch 3/3\n",
      "\u001B[1m391/391\u001B[0m \u001B[32m━━━━━━━━━━━━━━━━━━━━\u001B[0m\u001B[37m\u001B[0m \u001B[1m17s\u001B[0m 44ms/step - accuracy: 0.8976 - loss: 0.2612\n",
      "Accuracy: 83.22%\n"
     ]
    }
   ],
   "source": [
    "# Import necessary libraries\n",
    "from keras.datasets import imdb\n",
    "from keras.models import Sequential\n",
    "from keras.layers import Embedding, SimpleRNN, Dense\n",
    "from keras.preprocessing import sequence\n",
    "\n",
    "# Load the IMDB dataset\n",
    "top_words = 10000\n",
    "(X_train, y_train), (X_test, y_test) = imdb.load_data(num_words=top_words)\n",
    "\n",
    "# Truncate and pad input sequences\n",
    "max_review_length = 500\n",
    "X_train = sequence.pad_sequences(X_train, maxlen=max_review_length)\n",
    "X_test = sequence.pad_sequences(X_test, maxlen=max_review_length)\n",
    "\n",
    "# Create the model\n",
    "model = Sequential()\n",
    "model.add(Embedding(top_words, 32, input_length=max_review_length))\n",
    "model.add(SimpleRNN(32))\n",
    "model.add(Dense(1, activation='sigmoid'))\n",
    "\n",
    "# Compile the model\n",
    "model.compile(loss='binary_crossentropy', optimizer='adam', metrics=['accuracy'])\n",
    "\n",
    "# Train the model\n",
    "model.fit(X_train, y_train, epochs=3, batch_size=64)\n",
    "\n",
    "# Evaluate the model\n",
    "scores = model.evaluate(X_test, y_test, verbose=0)\n",
    "print(f'Accuracy: {scores[1]*100:.2f}%')\n"
   ]
  },
  {
   "cell_type": "code",
   "execution_count": 2,
   "outputs": [],
   "source": [
    "from keras.datasets import imdb\n",
    "from keras.preprocessing import sequence\n",
    "\n",
    "# Assuming 'model' is the trained RNN model from earlier\n",
    "\n",
    "# Function to preprocess and predict sentiment of a new sentence\n",
    "def predict_sentiment(text):\n",
    "    # Dictionary mapping words to an integer index\n",
    "    word_to_id = imdb.get_word_index()\n",
    "    \n",
    "    # Convert words to integer indices\n",
    "    tokens = text.lower().split()\n",
    "    tokens = [word_to_id[word] if word in word_to_id else 0 for word in tokens]\n",
    "    \n",
    "    # Pad sequences to the same length as training data\n",
    "    max_review_length = 500\n",
    "    tokens_pad = sequence.pad_sequences([tokens], maxlen=max_review_length)\n",
    "    \n",
    "    # Predict sentiment\n",
    "    prediction = model.predict(tokens_pad)\n",
    "    \n",
    "    # Decode sentiment\n",
    "    print(prediction)\n",
    "    sentiment = 'positive' if prediction > 0.5 else 'negative'\n",
    "    \n",
    "    return prediction, sentiment\n",
    "\n",
    "# Example usage:\n",
    "\n"
   ],
   "metadata": {
    "collapsed": false,
    "ExecuteTime": {
     "end_time": "2024-04-12T16:53:49.949771100Z",
     "start_time": "2024-04-12T16:53:49.942749Z"
    }
   },
   "id": "a99d9043e730889c"
  },
  {
   "cell_type": "code",
   "execution_count": 5,
   "outputs": [
    {
     "name": "stdout",
     "output_type": "stream",
     "text": [
      "\u001B[1m1/1\u001B[0m \u001B[32m━━━━━━━━━━━━━━━━━━━━\u001B[0m\u001B[37m\u001B[0m \u001B[1m0s\u001B[0m 19ms/step\n",
      "[[0.04973147]]\n",
      "Sentiment: negative\n"
     ]
    }
   ],
   "source": [
    "sentence = \"i love this movie\"\n",
    "prediction,sentiment = predict_sentiment(sentence)\n",
    "print(f'Sentiment: {sentiment}')"
   ],
   "metadata": {
    "collapsed": false,
    "ExecuteTime": {
     "end_time": "2024-04-12T16:54:17.038743300Z",
     "start_time": "2024-04-12T16:54:16.956007300Z"
    }
   },
   "id": "df3acd0bf19c656"
  },
  {
   "cell_type": "code",
   "execution_count": 6,
   "outputs": [
    {
     "name": "stderr",
     "output_type": "stream",
     "text": [
      "WARNING:absl:You are saving your model as an HDF5 file via `model.save()` or `keras.saving.save_model(model)`. This file format is considered legacy. We recommend using instead the native Keras format, e.g. `model.save('my_model.keras')` or `keras.saving.save_model(model, 'my_model.keras')`. \n"
     ]
    },
    {
     "name": "stdout",
     "output_type": "stream",
     "text": [
      "Model saved to disk.\n"
     ]
    }
   ],
   "source": [
    "# ... (previous code for setting up and training the model)\n",
    "\n",
    "# After training the model, save it to a file\n",
    "model.save('imdb_rnn.h5')\n",
    "\n",
    "print('Model saved to disk.')\n"
   ],
   "metadata": {
    "collapsed": false,
    "ExecuteTime": {
     "end_time": "2024-04-12T16:54:47.006385400Z",
     "start_time": "2024-04-12T16:54:46.982204900Z"
    }
   },
   "id": "1a79f8c5e42e9b05"
  },
  {
   "cell_type": "code",
   "execution_count": null,
   "outputs": [],
   "source": [],
   "metadata": {
    "collapsed": false
   },
   "id": "38ebbe5c78f16100"
  }
 ],
 "metadata": {
  "kernelspec": {
   "display_name": "Python 3",
   "language": "python",
   "name": "python3"
  },
  "language_info": {
   "codemirror_mode": {
    "name": "ipython",
    "version": 2
   },
   "file_extension": ".py",
   "mimetype": "text/x-python",
   "name": "python",
   "nbconvert_exporter": "python",
   "pygments_lexer": "ipython2",
   "version": "2.7.6"
  }
 },
 "nbformat": 4,
 "nbformat_minor": 5
}
